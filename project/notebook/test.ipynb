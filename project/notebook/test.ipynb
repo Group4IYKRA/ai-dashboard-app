{
 "cells": [
  {
   "cell_type": "code",
   "execution_count": 1,
   "metadata": {},
   "outputs": [],
   "source": [
    "import pandas as pd"
   ]
  },
  {
   "cell_type": "markdown",
   "metadata": {},
   "source": [
    "# ITR"
   ]
  },
  {
   "cell_type": "code",
   "execution_count": 3,
   "metadata": {},
   "outputs": [
    {
     "data": {
      "text/html": [
       "<div>\n",
       "<style scoped>\n",
       "    .dataframe tbody tr th:only-of-type {\n",
       "        vertical-align: middle;\n",
       "    }\n",
       "\n",
       "    .dataframe tbody tr th {\n",
       "        vertical-align: top;\n",
       "    }\n",
       "\n",
       "    .dataframe thead th {\n",
       "        text-align: right;\n",
       "    }\n",
       "</style>\n",
       "<table border=\"1\" class=\"dataframe\">\n",
       "  <thead>\n",
       "    <tr style=\"text-align: right;\">\n",
       "      <th></th>\n",
       "      <th>Date</th>\n",
       "      <th>Year</th>\n",
       "      <th>Q</th>\n",
       "      <th>Year_Quarter</th>\n",
       "      <th>Product_ID</th>\n",
       "      <th>Warehouse_Loc_ID</th>\n",
       "      <th>Daily_Sales</th>\n",
       "      <th>Stock_Level</th>\n",
       "      <th>Inventory_Holding_Cost</th>\n",
       "      <th>Lost_Sales</th>\n",
       "    </tr>\n",
       "  </thead>\n",
       "  <tbody>\n",
       "    <tr>\n",
       "      <th>0</th>\n",
       "      <td>2023-03-28</td>\n",
       "      <td>2023</td>\n",
       "      <td>1</td>\n",
       "      <td>2023-Q1</td>\n",
       "      <td>PROD1000</td>\n",
       "      <td>Surabaya-WH1</td>\n",
       "      <td>48</td>\n",
       "      <td>114</td>\n",
       "      <td>37717.78</td>\n",
       "      <td>2</td>\n",
       "    </tr>\n",
       "    <tr>\n",
       "      <th>1</th>\n",
       "      <td>2023-01-21</td>\n",
       "      <td>2023</td>\n",
       "      <td>1</td>\n",
       "      <td>2023-Q1</td>\n",
       "      <td>PROD1001</td>\n",
       "      <td>Surabaya-WH1</td>\n",
       "      <td>16</td>\n",
       "      <td>327</td>\n",
       "      <td>11276.30</td>\n",
       "      <td>4</td>\n",
       "    </tr>\n",
       "    <tr>\n",
       "      <th>2</th>\n",
       "      <td>2023-02-24</td>\n",
       "      <td>2023</td>\n",
       "      <td>1</td>\n",
       "      <td>2023-Q1</td>\n",
       "      <td>PROD1002</td>\n",
       "      <td>Surabaya-WH1</td>\n",
       "      <td>22</td>\n",
       "      <td>378</td>\n",
       "      <td>25660.33</td>\n",
       "      <td>0</td>\n",
       "    </tr>\n",
       "    <tr>\n",
       "      <th>3</th>\n",
       "      <td>2023-01-17</td>\n",
       "      <td>2023</td>\n",
       "      <td>1</td>\n",
       "      <td>2023-Q1</td>\n",
       "      <td>PROD1003</td>\n",
       "      <td>Surabaya-WH1</td>\n",
       "      <td>2</td>\n",
       "      <td>120</td>\n",
       "      <td>23731.02</td>\n",
       "      <td>5</td>\n",
       "    </tr>\n",
       "    <tr>\n",
       "      <th>4</th>\n",
       "      <td>2023-03-02</td>\n",
       "      <td>2023</td>\n",
       "      <td>1</td>\n",
       "      <td>2023-Q1</td>\n",
       "      <td>PROD1003</td>\n",
       "      <td>Surabaya-WH1</td>\n",
       "      <td>9</td>\n",
       "      <td>315</td>\n",
       "      <td>2011.11</td>\n",
       "      <td>1</td>\n",
       "    </tr>\n",
       "  </tbody>\n",
       "</table>\n",
       "</div>"
      ],
      "text/plain": [
       "         Date  Year  Q Year_Quarter Product_ID Warehouse_Loc_ID  Daily_Sales  \\\n",
       "0  2023-03-28  2023  1      2023-Q1   PROD1000     Surabaya-WH1           48   \n",
       "1  2023-01-21  2023  1      2023-Q1   PROD1001     Surabaya-WH1           16   \n",
       "2  2023-02-24  2023  1      2023-Q1   PROD1002     Surabaya-WH1           22   \n",
       "3  2023-01-17  2023  1      2023-Q1   PROD1003     Surabaya-WH1            2   \n",
       "4  2023-03-02  2023  1      2023-Q1   PROD1003     Surabaya-WH1            9   \n",
       "\n",
       "   Stock_Level  Inventory_Holding_Cost  Lost_Sales  \n",
       "0          114                37717.78           2  \n",
       "1          327                11276.30           4  \n",
       "2          378                25660.33           0  \n",
       "3          120                23731.02           5  \n",
       "4          315                 2011.11           1  "
      ]
     },
     "execution_count": 3,
     "metadata": {},
     "output_type": "execute_result"
    }
   ],
   "source": [
    "path = '../data/processed/metrics_raw_data.csv'\n",
    "\n",
    "metrics_raw = pd.read_csv(path)\n",
    "metrics_raw.head()"
   ]
  },
  {
   "cell_type": "code",
   "execution_count": 11,
   "metadata": {},
   "outputs": [
    {
     "name": "stdout",
     "output_type": "stream",
     "text": [
      "<class 'pandas.core.frame.DataFrame'>\n",
      "RangeIndex: 1958040 entries, 0 to 1958039\n",
      "Data columns (total 10 columns):\n",
      " #   Column                  Dtype  \n",
      "---  ------                  -----  \n",
      " 0   Date                    object \n",
      " 1   Year                    int64  \n",
      " 2   Q                       int64  \n",
      " 3   Year_Quarter            object \n",
      " 4   Product_ID              object \n",
      " 5   Warehouse_Loc_ID        object \n",
      " 6   Daily_Sales             int64  \n",
      " 7   Stock_Level             int64  \n",
      " 8   Inventory_Holding_Cost  float64\n",
      " 9   Lost_Sales              int64  \n",
      "dtypes: float64(1), int64(5), object(4)\n",
      "memory usage: 149.4+ MB\n"
     ]
    }
   ],
   "source": [
    "metrics_raw.info()"
   ]
  },
  {
   "cell_type": "code",
   "execution_count": 23,
   "metadata": {},
   "outputs": [
    {
     "data": {
      "text/plain": [
       "592351"
      ]
     },
     "execution_count": 23,
     "metadata": {},
     "output_type": "execute_result"
    }
   ],
   "source": [
    "metrics_raw['Date'] = pd.to_datetime(metrics_raw['Date'])\n",
    "itr = metrics_raw.groupby('Year_Quarter', as_index=False).agg({'Date':['min','max'], 'Daily_Sales':'sum'})\n",
    "itr.columns = ['_'.join(col).strip() if col[1] else col[0] for col in itr.columns.values]\n",
    "\n",
    "metrics_raw[metrics_raw['Date']=='2023-01-01']['Stock_Level'].sum()"
   ]
  },
  {
   "cell_type": "code",
   "execution_count": 27,
   "metadata": {},
   "outputs": [
    {
     "data": {
      "text/html": [
       "<div>\n",
       "<style scoped>\n",
       "    .dataframe tbody tr th:only-of-type {\n",
       "        vertical-align: middle;\n",
       "    }\n",
       "\n",
       "    .dataframe tbody tr th {\n",
       "        vertical-align: top;\n",
       "    }\n",
       "\n",
       "    .dataframe thead th {\n",
       "        text-align: right;\n",
       "    }\n",
       "</style>\n",
       "<table border=\"1\" class=\"dataframe\">\n",
       "  <thead>\n",
       "    <tr style=\"text-align: right;\">\n",
       "      <th></th>\n",
       "      <th>Year_Quarter</th>\n",
       "      <th>ITR</th>\n",
       "    </tr>\n",
       "  </thead>\n",
       "  <tbody>\n",
       "    <tr>\n",
       "      <th>0</th>\n",
       "      <td>2023-Q1</td>\n",
       "      <td>8.94</td>\n",
       "    </tr>\n",
       "    <tr>\n",
       "      <th>1</th>\n",
       "      <td>2023-Q2</td>\n",
       "      <td>9.06</td>\n",
       "    </tr>\n",
       "    <tr>\n",
       "      <th>2</th>\n",
       "      <td>2023-Q3</td>\n",
       "      <td>9.11</td>\n",
       "    </tr>\n",
       "    <tr>\n",
       "      <th>3</th>\n",
       "      <td>2023-Q4</td>\n",
       "      <td>9.26</td>\n",
       "    </tr>\n",
       "    <tr>\n",
       "      <th>4</th>\n",
       "      <td>2024-Q1</td>\n",
       "      <td>9.09</td>\n",
       "    </tr>\n",
       "    <tr>\n",
       "      <th>5</th>\n",
       "      <td>2024-Q2</td>\n",
       "      <td>9.05</td>\n",
       "    </tr>\n",
       "    <tr>\n",
       "      <th>6</th>\n",
       "      <td>2024-Q3</td>\n",
       "      <td>9.20</td>\n",
       "    </tr>\n",
       "    <tr>\n",
       "      <th>7</th>\n",
       "      <td>2024-Q4</td>\n",
       "      <td>5.11</td>\n",
       "    </tr>\n",
       "  </tbody>\n",
       "</table>\n",
       "</div>"
      ],
      "text/plain": [
       "  Year_Quarter   ITR\n",
       "0      2023-Q1  8.94\n",
       "1      2023-Q2  9.06\n",
       "2      2023-Q3  9.11\n",
       "3      2023-Q4  9.26\n",
       "4      2024-Q1  9.09\n",
       "5      2024-Q2  9.05\n",
       "6      2024-Q3  9.20\n",
       "7      2024-Q4  5.11"
      ]
     },
     "execution_count": 27,
     "metadata": {},
     "output_type": "execute_result"
    }
   ],
   "source": [
    "metrics_raw['Date'] = pd.to_datetime(metrics_raw['Date'])\n",
    "itr = metrics_raw.groupby('Year_Quarter', as_index=False).agg({'Date':['min','max'], 'Daily_Sales':'sum'})\n",
    "itr.columns = ['_'.join(col).strip() if col[1] else col[0] for col in itr.columns.values]\n",
    "\n",
    "earliest_stock_sum = [(metrics_raw[metrics_raw['Date']==i]['Stock_Level'].sum()) for i in itr['Date_min']]\n",
    "latest_stock_sum = [(metrics_raw[metrics_raw['Date']==i]['Stock_Level'].sum()) for i in itr['Date_max']]\n",
    "\n",
    "itr['Earliest_Stock_Sum'] = earliest_stock_sum\n",
    "itr['Latest_Stock_Sum'] = latest_stock_sum\n",
    "\n",
    "itr['ITR'] = (itr['Daily_Sales_sum']/((itr['Latest_Stock_Sum']+itr['Earliest_Stock_Sum'])/2)).round(2)\n",
    "itr.drop(columns=['Date_min','Date_max', 'Daily_Sales_sum', 'Earliest_Stock_Sum', 'Latest_Stock_Sum'], inplace=True)\n",
    "itr\n"
   ]
  },
  {
   "cell_type": "markdown",
   "metadata": {},
   "source": [
    "# Overstock Cost"
   ]
  },
  {
   "cell_type": "code",
   "execution_count": 10,
   "metadata": {},
   "outputs": [
    {
     "data": {
      "text/html": [
       "<div>\n",
       "<style scoped>\n",
       "    .dataframe tbody tr th:only-of-type {\n",
       "        vertical-align: middle;\n",
       "    }\n",
       "\n",
       "    .dataframe tbody tr th {\n",
       "        vertical-align: top;\n",
       "    }\n",
       "\n",
       "    .dataframe thead th {\n",
       "        text-align: right;\n",
       "    }\n",
       "</style>\n",
       "<table border=\"1\" class=\"dataframe\">\n",
       "  <thead>\n",
       "    <tr style=\"text-align: right;\">\n",
       "      <th></th>\n",
       "      <th>Year_Quarter</th>\n",
       "      <th>Overstock_Cost</th>\n",
       "    </tr>\n",
       "  </thead>\n",
       "  <tbody>\n",
       "    <tr>\n",
       "      <th>0</th>\n",
       "      <td>2023-Q1</td>\n",
       "      <td>1,254,644,548,003</td>\n",
       "    </tr>\n",
       "    <tr>\n",
       "      <th>1</th>\n",
       "      <td>2023-Q2</td>\n",
       "      <td>1,360,983,074,985</td>\n",
       "    </tr>\n",
       "    <tr>\n",
       "      <th>2</th>\n",
       "      <td>2023-Q3</td>\n",
       "      <td>1,468,744,297,523</td>\n",
       "    </tr>\n",
       "    <tr>\n",
       "      <th>3</th>\n",
       "      <td>2023-Q4</td>\n",
       "      <td>1,563,828,971,583</td>\n",
       "    </tr>\n",
       "    <tr>\n",
       "      <th>4</th>\n",
       "      <td>2024-Q1</td>\n",
       "      <td>1,565,278,789,748</td>\n",
       "    </tr>\n",
       "    <tr>\n",
       "      <th>5</th>\n",
       "      <td>2024-Q2</td>\n",
       "      <td>1,566,541,531,374</td>\n",
       "    </tr>\n",
       "    <tr>\n",
       "      <th>6</th>\n",
       "      <td>2024-Q3</td>\n",
       "      <td>1,590,625,517,500</td>\n",
       "    </tr>\n",
       "    <tr>\n",
       "      <th>7</th>\n",
       "      <td>2024-Q4</td>\n",
       "      <td>875,961,544,471</td>\n",
       "    </tr>\n",
       "  </tbody>\n",
       "</table>\n",
       "</div>"
      ],
      "text/plain": [
       "  Year_Quarter     Overstock_Cost\n",
       "0      2023-Q1  1,254,644,548,003\n",
       "1      2023-Q2  1,360,983,074,985\n",
       "2      2023-Q3  1,468,744,297,523\n",
       "3      2023-Q4  1,563,828,971,583\n",
       "4      2024-Q1  1,565,278,789,748\n",
       "5      2024-Q2  1,566,541,531,374\n",
       "6      2024-Q3  1,590,625,517,500\n",
       "7      2024-Q4    875,961,544,471"
      ]
     },
     "execution_count": 10,
     "metadata": {},
     "output_type": "execute_result"
    }
   ],
   "source": [
    "overstock_cost = metrics_raw.copy()\n",
    "overstock_cost['Overstock_Cost'] = (overstock_cost['Stock_Level'] - overstock_cost['Daily_Sales']) * overstock_cost['Inventory_Holding_Cost']\n",
    "overstock_cost = overstock_cost.groupby('Year_Quarter', as_index=False).agg({'Overstock_Cost':'sum'})\n",
    "# overstock_cost['Overstock_Cost'] = overstock_cost['Overstock_Cost'].apply(lambda x: f'{x:,.0f}')\n",
    "overstock_cost"
   ]
  },
  {
   "cell_type": "markdown",
   "metadata": {},
   "source": [
    "# Stockout Ratio"
   ]
  },
  {
   "cell_type": "code",
   "execution_count": 11,
   "metadata": {},
   "outputs": [
    {
     "data": {
      "text/html": [
       "<div>\n",
       "<style scoped>\n",
       "    .dataframe tbody tr th:only-of-type {\n",
       "        vertical-align: middle;\n",
       "    }\n",
       "\n",
       "    .dataframe tbody tr th {\n",
       "        vertical-align: top;\n",
       "    }\n",
       "\n",
       "    .dataframe thead th {\n",
       "        text-align: right;\n",
       "    }\n",
       "</style>\n",
       "<table border=\"1\" class=\"dataframe\">\n",
       "  <thead>\n",
       "    <tr style=\"text-align: right;\">\n",
       "      <th></th>\n",
       "      <th>Date</th>\n",
       "      <th>Year</th>\n",
       "      <th>Q</th>\n",
       "      <th>Year_Quarter</th>\n",
       "      <th>Product_ID</th>\n",
       "      <th>Warehouse_Loc_ID</th>\n",
       "      <th>Daily_Sales</th>\n",
       "      <th>Stock_Level</th>\n",
       "      <th>Inventory_Holding_Cost</th>\n",
       "      <th>Lost_Sales</th>\n",
       "    </tr>\n",
       "  </thead>\n",
       "  <tbody>\n",
       "    <tr>\n",
       "      <th>0</th>\n",
       "      <td>2023-03-28</td>\n",
       "      <td>2023</td>\n",
       "      <td>1</td>\n",
       "      <td>2023-Q1</td>\n",
       "      <td>PROD1000</td>\n",
       "      <td>Surabaya-WH1</td>\n",
       "      <td>48</td>\n",
       "      <td>114</td>\n",
       "      <td>37717.78</td>\n",
       "      <td>2</td>\n",
       "    </tr>\n",
       "    <tr>\n",
       "      <th>1</th>\n",
       "      <td>2023-01-21</td>\n",
       "      <td>2023</td>\n",
       "      <td>1</td>\n",
       "      <td>2023-Q1</td>\n",
       "      <td>PROD1001</td>\n",
       "      <td>Surabaya-WH1</td>\n",
       "      <td>16</td>\n",
       "      <td>327</td>\n",
       "      <td>11276.30</td>\n",
       "      <td>4</td>\n",
       "    </tr>\n",
       "    <tr>\n",
       "      <th>2</th>\n",
       "      <td>2023-02-24</td>\n",
       "      <td>2023</td>\n",
       "      <td>1</td>\n",
       "      <td>2023-Q1</td>\n",
       "      <td>PROD1002</td>\n",
       "      <td>Surabaya-WH1</td>\n",
       "      <td>22</td>\n",
       "      <td>378</td>\n",
       "      <td>25660.33</td>\n",
       "      <td>0</td>\n",
       "    </tr>\n",
       "    <tr>\n",
       "      <th>3</th>\n",
       "      <td>2023-01-17</td>\n",
       "      <td>2023</td>\n",
       "      <td>1</td>\n",
       "      <td>2023-Q1</td>\n",
       "      <td>PROD1003</td>\n",
       "      <td>Surabaya-WH1</td>\n",
       "      <td>2</td>\n",
       "      <td>120</td>\n",
       "      <td>23731.02</td>\n",
       "      <td>5</td>\n",
       "    </tr>\n",
       "    <tr>\n",
       "      <th>4</th>\n",
       "      <td>2023-03-02</td>\n",
       "      <td>2023</td>\n",
       "      <td>1</td>\n",
       "      <td>2023-Q1</td>\n",
       "      <td>PROD1003</td>\n",
       "      <td>Surabaya-WH1</td>\n",
       "      <td>9</td>\n",
       "      <td>315</td>\n",
       "      <td>2011.11</td>\n",
       "      <td>1</td>\n",
       "    </tr>\n",
       "  </tbody>\n",
       "</table>\n",
       "</div>"
      ],
      "text/plain": [
       "         Date  Year  Q Year_Quarter Product_ID Warehouse_Loc_ID  Daily_Sales  \\\n",
       "0  2023-03-28  2023  1      2023-Q1   PROD1000     Surabaya-WH1           48   \n",
       "1  2023-01-21  2023  1      2023-Q1   PROD1001     Surabaya-WH1           16   \n",
       "2  2023-02-24  2023  1      2023-Q1   PROD1002     Surabaya-WH1           22   \n",
       "3  2023-01-17  2023  1      2023-Q1   PROD1003     Surabaya-WH1            2   \n",
       "4  2023-03-02  2023  1      2023-Q1   PROD1003     Surabaya-WH1            9   \n",
       "\n",
       "   Stock_Level  Inventory_Holding_Cost  Lost_Sales  \n",
       "0          114                37717.78           2  \n",
       "1          327                11276.30           4  \n",
       "2          378                25660.33           0  \n",
       "3          120                23731.02           5  \n",
       "4          315                 2011.11           1  "
      ]
     },
     "execution_count": 11,
     "metadata": {},
     "output_type": "execute_result"
    }
   ],
   "source": [
    "metrics_raw.head()"
   ]
  },
  {
   "cell_type": "code",
   "execution_count": 1,
   "metadata": {},
   "outputs": [
    {
     "name": "stdout",
     "output_type": "stream",
     "text": [
      "[1, 2, 3]\n"
     ]
    }
   ],
   "source": [
    "a = [1,2,3]\n",
    "b = None\n",
    "\n",
    "c = a or b\n",
    "\n",
    "print(c)"
   ]
  },
  {
   "cell_type": "code",
   "execution_count": 6,
   "metadata": {},
   "outputs": [
    {
     "name": "stdout",
     "output_type": "stream",
     "text": [
      "[1, 2, 3, 4]\n"
     ]
    }
   ],
   "source": [
    "a = list(set([1,2,3]).union(set([2,3,4])))\n",
    "print(a)"
   ]
  }
 ],
 "metadata": {
  "kernelspec": {
   "display_name": "base",
   "language": "python",
   "name": "python3"
  },
  "language_info": {
   "codemirror_mode": {
    "name": "ipython",
    "version": 3
   },
   "file_extension": ".py",
   "mimetype": "text/x-python",
   "name": "python",
   "nbconvert_exporter": "python",
   "pygments_lexer": "ipython3",
   "version": "3.12.7"
  }
 },
 "nbformat": 4,
 "nbformat_minor": 2
}
